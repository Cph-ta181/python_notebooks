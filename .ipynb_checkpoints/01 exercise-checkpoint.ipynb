{
 "cells": [
  {
   "cell_type": "markdown",
   "metadata": {},
   "source": [
    "# Exercise 1A"
   ]
  },
  {
   "cell_type": "code",
   "execution_count": 10,
   "metadata": {},
   "outputs": [
    {
     "name": "stdout",
     "output_type": "stream",
     "text": [
      "['Harry', 'Hubert', 'Herman']\n"
     ]
    }
   ],
   "source": [
    "names_list = [\"Harry\", \"Potter\", \"Hubert\", \"Herman\", \"Bo\", \"Ib\"]\n",
    "    \n",
    "h_names = [name for name in names_list if name[0] == \"H\"]\n",
    "\n",
    "print(h_names2)"
   ]
  },
  {
   "cell_type": "markdown",
   "metadata": {},
   "source": [
    "# Exercise 1B"
   ]
  },
  {
   "cell_type": "code",
   "execution_count": 17,
   "metadata": {},
   "outputs": [
    {
     "name": "stdout",
     "output_type": "stream",
     "text": [
      "[0, 1, 8, 27, 64, 125, 216, 343, 512, 729, 1000, 1331, 1728, 2197, 2744, 3375, 4096, 4913, 5832, 6859, 8000, 9261, 10648, 12167, 13824, 15625, 17576, 19683, 21952, 24389, 27000, 29791, 32768, 35937, 39304, 42875, 46656, 50653, 54872, 59319, 64000, 68921, 74088, 79507, 85184, 91125, 97336, 103823, 110592, 117649, 125000, 132651, 140608, 148877, 157464, 166375, 175616, 185193, 195112, 205379, 216000, 226981, 238328, 250047, 262144, 274625, 287496, 300763, 314432, 328509, 343000, 357911, 373248, 389017, 405224, 421875, 438976, 456533, 474552, 493039, 512000, 531441, 551368, 571787, 592704, 614125, 636056, 658503, 681472, 704969, 729000, 753571, 778688, 804357, 830584, 857375, 884736, 912673, 941192, 970299, 1000000]\n"
     ]
    }
   ],
   "source": [
    "nums = [value ** 3 for value in range(0,101)]\n",
    "print(nums)\n"
   ]
  },
  {
   "cell_type": "markdown",
   "metadata": {},
   "source": [
    "# Exercise 1C"
   ]
  },
  {
   "cell_type": "code",
   "execution_count": 20,
   "metadata": {},
   "outputs": [
    {
     "name": "stdout",
     "output_type": "stream",
     "text": [
      "[(5, 'Harry'), (6, 'Potter'), (6, 'Hubert'), (6, 'Herman'), (2, 'Bo'), (2, 'Ib')]\n"
     ]
    }
   ],
   "source": [
    "names_list = [\"Harry\", \"Potter\", \"Hubert\", \"Herman\", \"Bo\", \"Ib\"]\n",
    "\n",
    "tuple_list = [tuple([len(name), name]) for name in names_list]\n",
    "print(tuple_list)"
   ]
  },
  {
   "cell_type": "markdown",
   "metadata": {},
   "source": [
    "# Exercise 1D"
   ]
  },
  {
   "cell_type": "code",
   "execution_count": 24,
   "metadata": {},
   "outputs": [
    {
     "name": "stdout",
     "output_type": "stream",
     "text": [
      "['1', '5', '1', '0']\n"
     ]
    }
   ],
   "source": [
    "word = \"Th15 1s a w0rd\"\n",
    "nums = [char for char in word if char.isnumeric()]\n",
    "print(nums)"
   ]
  },
  {
   "cell_type": "markdown",
   "metadata": {},
   "source": [
    "# Exercise 1E"
   ]
  },
  {
   "cell_type": "code",
   "execution_count": 52,
   "metadata": {},
   "outputs": [
    {
     "name": "stdout",
     "output_type": "stream",
     "text": [
      "{(1, 3), (6, 6), (5, 6), (1, 6), (2, 5), (1, 2), (3, 3), (5, 5), (4, 4), (1, 5), (3, 6), (2, 2), (1, 1), (2, 6), (4, 5), (1, 4), (2, 3), (3, 5), (4, 6), (3, 4), (2, 4)}\n"
     ]
    }
   ],
   "source": [
    "dice_rolls = set([(num1, num2) for num1 in range(1,7) for num2 in range(num1,7)])\n",
    "print(dice_rolls)"
   ]
  },
  {
   "cell_type": "markdown",
   "metadata": {},
   "source": [
    "# Exercise 2A"
   ]
  },
  {
   "cell_type": "code",
   "execution_count": 53,
   "metadata": {},
   "outputs": [
    {
     "name": "stdout",
     "output_type": "stream",
     "text": [
      "{'Harry': 5, 'Potter': 6, 'Hubert': 6, 'Herman': 6, 'Bo': 2, 'Ib': 2}\n"
     ]
    }
   ],
   "source": [
    "names_list = [\"Harry\", \"Potter\", \"Hubert\", \"Herman\", \"Bo\", \"Ib\"]\n",
    "dict1 = {name: len(name) for name in names_list}\n",
    "print(dict1)"
   ]
  },
  {
   "cell_type": "markdown",
   "metadata": {},
   "source": [
    "# Exercise 2B"
   ]
  },
  {
   "cell_type": "code",
   "execution_count": 56,
   "metadata": {},
   "outputs": [
    {
     "name": "stdout",
     "output_type": "stream",
     "text": [
      "{1: 1.0, 2: 1.4142135623730951, 4: 2.0, 6: 2.449489742783178, 10: 3.1622776601683795, 100: 10.0, 1000: 31.622776601683793}\n"
     ]
    }
   ],
   "source": [
    "import math\n",
    "num_list = [1, 2, 4, 6, 10, 100, 1000]\n",
    "powerdict = {num: math.sqrt(num) for num in num_list}\n",
    "print(powerdict)"
   ]
  },
  {
   "cell_type": "markdown",
   "metadata": {},
   "source": [
    "# Exercise 3"
   ]
  },
  {
   "cell_type": "code",
   "execution_count": 64,
   "metadata": {},
   "outputs": [
    {
     "name": "stdout",
     "output_type": "stream",
     "text": [
      "[2, 3, 4, 5, 6, 7, 3, 4, 5, 6, 7, 8, 4, 5, 6, 7, 8, 9, 5, 6, 7, 8, 9, 10, 6, 7, 8, 9, 10, 11, 7, 8, 9, 10, 11, 12]\n",
      "{2: 2.7777777777777777, 3: 5.555555555555555, 4: 8.333333333333334, 5: 11.11111111111111, 6: 13.88888888888889, 7: 16.666666666666668, 8: 13.88888888888889, 9: 11.11111111111111, 10: 8.333333333333334, 11: 5.555555555555555, 12: 2.7777777777777777}\n"
     ]
    }
   ],
   "source": [
    "dice_rolls = [num1 + num2 for num1 in range(1,7) for num2 in range(1,7)]\n",
    "\n",
    "chance_dict = {}\n",
    "for num in dice_rolls:\n",
    "    if num not in chance_dict:\n",
    "        chance_dict[num] = 0\n",
    "    chance_dict[num] += 1\n",
    "\n",
    "combi_count = len(dice_rolls)\n",
    "\n",
    "for num in chance_dict:\n",
    "    chance_dict[num] /= combi_count/100 \n",
    "\n",
    "\n",
    "print(dice_rolls)\n",
    "print (chance_dict)"
   ]
  },
  {
   "cell_type": "code",
   "execution_count": null,
   "metadata": {},
   "outputs": [],
   "source": []
  },
  {
   "cell_type": "code",
   "execution_count": null,
   "metadata": {},
   "outputs": [],
   "source": []
  }
 ],
 "metadata": {
  "kernelspec": {
   "display_name": "Python 3",
   "language": "python",
   "name": "python3"
  },
  "language_info": {
   "codemirror_mode": {
    "name": "ipython",
    "version": 3
   },
   "file_extension": ".py",
   "mimetype": "text/x-python",
   "name": "python",
   "nbconvert_exporter": "python",
   "pygments_lexer": "ipython3",
   "version": "3.7.6"
  }
 },
 "nbformat": 4,
 "nbformat_minor": 4
}
