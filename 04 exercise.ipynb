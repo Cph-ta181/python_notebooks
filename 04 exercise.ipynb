{
 "cells": [
  {
   "cell_type": "markdown",
   "metadata": {},
   "source": [
    "## class exercise: table"
   ]
  },
  {
   "cell_type": "code",
   "execution_count": 19,
   "metadata": {},
   "outputs": [
    {
     "name": "stdout",
     "output_type": "stream",
     "text": [
      "[[10 11 12 13 14]\n",
      " [15 16 17 18 19]\n",
      " [20 21 22 23 24]\n",
      " [25 26 27 28 29]]\n",
      "[[10]]\n",
      "[11 12 13]\n",
      "[12 17 22]\n",
      "[[11 13]\n",
      " [16 18]\n",
      " [21 23]\n",
      " [26 28]]\n",
      "[[14]\n",
      " [24]]\n"
     ]
    }
   ],
   "source": [
    "import numpy as np\n",
    "\n",
    "a = np.arange(10,30).reshape(4, 5)\n",
    "orange = a[0:1, 0:1]\n",
    "red = a[0, 1:4]\n",
    "green = a[0:3, 2]\n",
    "light_blue = a[0:4, 1:4:2]\n",
    "dark_blue = a[0:3:2, -1::2]\n",
    "print(a)\n",
    "print(orange)\n",
    "print(red)\n",
    "print(green)\n",
    "print(light_blue)\n",
    "print(dark_blue)"
   ]
  },
  {
   "cell_type": "markdown",
   "metadata": {},
   "source": [
    "## class exercise: cube"
   ]
  },
  {
   "cell_type": "code",
   "execution_count": 25,
   "metadata": {},
   "outputs": [
    {
     "name": "stdout",
     "output_type": "stream",
     "text": [
      "[12 13 14]\n",
      "[ 3 12 21]\n",
      "[2 5 8]\n"
     ]
    }
   ],
   "source": [
    "a = np.arange(0, 27).reshape((3, 3, 3))\n",
    "a1 = a[1, 1, 0:]\n",
    "a2 = a[0:, 1, 0]\n",
    "a3 = a[0, 0:, 2]\n",
    "print(a1)\n",
    "print(a2)\n",
    "print(a3)"
   ]
  },
  {
   "cell_type": "markdown",
   "metadata": {},
   "source": [
    "## class exercise: masking"
   ]
  },
  {
   "cell_type": "code",
   "execution_count": 28,
   "metadata": {},
   "outputs": [
    {
     "name": "stdout",
     "output_type": "stream",
     "text": [
      "[  2   4   6   8  10  12  14  16  18  20  22  24  26  28  30  32  34  36\n",
      "  38  40  42  44  46  48  50  52  54  56  58  60  62  64  66  68  70  72\n",
      "  74  76  78  80  82  84  86  88  90  92  94  96  98 100]\n",
      "[ 6 16 26 36 46 56 66 76 86 96]\n"
     ]
    }
   ],
   "source": [
    "data = np.arange(1,101).reshape(10,10)\n",
    "mask = data%2 == 0\n",
    "print(data[mask])\n",
    "print(data[np.where(data%10 == 6)])"
   ]
  },
  {
   "cell_type": "code",
   "execution_count": 62,
   "metadata": {},
   "outputs": [
    {
     "name": "stdout",
     "output_type": "stream",
     "text": [
      "2: 0 år gamle tyske børn i københavn: 35\n",
      "3: [3]\n"
     ]
    }
   ],
   "source": [
    "filename = '../data/befkbhalderstatkode.csv'\n",
    "\n",
    "bef_stats_df = np.genfromtxt(filename, delimiter=',', dtype=np.uint, skip_header=1)\n",
    "dd = bef_stats_df\n",
    "mask2 = (dd[:, 0] == 2015) & (dd[:, 2] == 0) & (dd[: ,3] == 5180)\n",
    "\n",
    "print(f'2: 0 år gamle tyske børn i københavn: {np.sum(dd[mask2][:, 4])}')\n",
    "\n",
    "def funktion(aar, bydel, alder, statkode):\n",
    "    funcmask = (dd[:, 0] == aar) & (dd[:, 1] == bydel) & (dd[: ,2] == alder) & (dd[: , 3] == statkode)\n",
    "    return dd[funcmask][:, 4]\n",
    "\n",
    "print(f'3: {funktion(2015, 1, 0, 5180)}')\n",
    "\n",
    "def funktion2(aar, bydel, alder = None, statkode):\n",
    "    if alder == None:\n",
    "        funcmask = (dd[:, 0] == aar) & (dd[:, 1] == bydel) & (dd[: , 3] == statkode)\n",
    "        return np.sum(dd[funcmask][:, 4])\n",
    "    funcmask = (dd[:, 0] == aar) & (dd[:, 1] == bydel) & (dd[: ,2] == alder) & (dd[: , 3] == statkode)\n",
    "    return dd[funcmask][:, 4]\n",
    "      \n",
    "print(f'4: {funktion2(aar = 2015, bydel=1, statkode)}')"
   ]
  },
  {
   "cell_type": "code",
   "execution_count": null,
   "metadata": {},
   "outputs": [],
   "source": []
  },
  {
   "cell_type": "code",
   "execution_count": null,
   "metadata": {},
   "outputs": [],
   "source": []
  }
 ],
 "metadata": {
  "kernelspec": {
   "display_name": "Python 3",
   "language": "python",
   "name": "python3"
  },
  "language_info": {
   "codemirror_mode": {
    "name": "ipython",
    "version": 3
   },
   "file_extension": ".py",
   "mimetype": "text/x-python",
   "name": "python",
   "nbconvert_exporter": "python",
   "pygments_lexer": "ipython3",
   "version": "3.7.6"
  }
 },
 "nbformat": 4,
 "nbformat_minor": 4
}
